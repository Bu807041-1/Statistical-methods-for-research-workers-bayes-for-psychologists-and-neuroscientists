{
 "cells": [
  {
   "cell_type": "markdown",
   "metadata": {},
   "source": [
    "# One Way Analysis of variance (ANOVA) using Bayesian estimation"
   ]
  },
  {
   "cell_type": "code",
   "execution_count": 4,
   "metadata": {},
   "outputs": [],
   "source": [
    "import pystan as ps\n",
    "import os\n",
    "import pandas as pd\n",
    "import numpy as np\n",
    "import matplotlib.pyplot as plt\n",
    "%matplotlib inline\n",
    "import seaborn as sns\n",
    "from patsy import dmatrix, dmatrices\n",
    "from patsy.contrasts import Treatment, Sum"
   ]
  },
  {
   "cell_type": "code",
   "execution_count": 5,
   "metadata": {},
   "outputs": [
    {
     "data": {
      "text/html": [
       "<div>\n",
       "<style scoped>\n",
       "    .dataframe tbody tr th:only-of-type {\n",
       "        vertical-align: middle;\n",
       "    }\n",
       "\n",
       "    .dataframe tbody tr th {\n",
       "        vertical-align: top;\n",
       "    }\n",
       "\n",
       "    .dataframe thead th {\n",
       "        text-align: right;\n",
       "    }\n",
       "</style>\n",
       "<table border=\"1\" class=\"dataframe\">\n",
       "  <thead>\n",
       "    <tr style=\"text-align: right;\">\n",
       "      <th></th>\n",
       "      <th>Condition</th>\n",
       "      <th>Time_of_Day</th>\n",
       "      <th>BDI_II</th>\n",
       "      <th>STAI_T</th>\n",
       "      <th>pre_film_VAS_Sad</th>\n",
       "      <th>pre_film_VAS_Hopeless</th>\n",
       "      <th>pre_film_VAS_Depressed</th>\n",
       "      <th>pre_film_VAS_Fear</th>\n",
       "      <th>pre_film_VAS_Horror</th>\n",
       "      <th>pre_film_VAS_Anxious</th>\n",
       "      <th>...</th>\n",
       "      <th>Day_Zero_Number_of_Intrusions</th>\n",
       "      <th>Days_One_to_Seven_Number_of_Intrusions</th>\n",
       "      <th>Visual_Recognition_Memory_Test</th>\n",
       "      <th>Verbal_Recognition_Memory_Test</th>\n",
       "      <th>Number_of_Provocation_Task_Intrusions</th>\n",
       "      <th>Diary_Compliance</th>\n",
       "      <th>IES_R_Intrusion_subscale</th>\n",
       "      <th>Tetris_Total_Score</th>\n",
       "      <th>Self_Rated_Tetris_Performance</th>\n",
       "      <th>Tetris_Demand_Rating</th>\n",
       "    </tr>\n",
       "  </thead>\n",
       "  <tbody>\n",
       "    <tr>\n",
       "      <td>0</td>\n",
       "      <td>1</td>\n",
       "      <td>2</td>\n",
       "      <td>1</td>\n",
       "      <td>33</td>\n",
       "      <td>0.0</td>\n",
       "      <td>0.0</td>\n",
       "      <td>0.0</td>\n",
       "      <td>0.4</td>\n",
       "      <td>0.3</td>\n",
       "      <td>0.8</td>\n",
       "      <td>...</td>\n",
       "      <td>2</td>\n",
       "      <td>4</td>\n",
       "      <td>15</td>\n",
       "      <td>18</td>\n",
       "      <td>5</td>\n",
       "      <td>9</td>\n",
       "      <td>0.62</td>\n",
       "      <td>9999</td>\n",
       "      <td>9999.0</td>\n",
       "      <td>0</td>\n",
       "    </tr>\n",
       "    <tr>\n",
       "      <td>1</td>\n",
       "      <td>1</td>\n",
       "      <td>2</td>\n",
       "      <td>3</td>\n",
       "      <td>27</td>\n",
       "      <td>1.9</td>\n",
       "      <td>0.7</td>\n",
       "      <td>0.5</td>\n",
       "      <td>0.8</td>\n",
       "      <td>0.2</td>\n",
       "      <td>0.2</td>\n",
       "      <td>...</td>\n",
       "      <td>2</td>\n",
       "      <td>3</td>\n",
       "      <td>17</td>\n",
       "      <td>19</td>\n",
       "      <td>4</td>\n",
       "      <td>9</td>\n",
       "      <td>0.62</td>\n",
       "      <td>9999</td>\n",
       "      <td>9999.0</td>\n",
       "      <td>0</td>\n",
       "    </tr>\n",
       "    <tr>\n",
       "      <td>2</td>\n",
       "      <td>1</td>\n",
       "      <td>1</td>\n",
       "      <td>10</td>\n",
       "      <td>42</td>\n",
       "      <td>2.2</td>\n",
       "      <td>1.2</td>\n",
       "      <td>0.9</td>\n",
       "      <td>0.2</td>\n",
       "      <td>0.1</td>\n",
       "      <td>0.4</td>\n",
       "      <td>...</td>\n",
       "      <td>5</td>\n",
       "      <td>6</td>\n",
       "      <td>12</td>\n",
       "      <td>21</td>\n",
       "      <td>0</td>\n",
       "      <td>10</td>\n",
       "      <td>0.50</td>\n",
       "      <td>9999</td>\n",
       "      <td>9999.0</td>\n",
       "      <td>0</td>\n",
       "    </tr>\n",
       "    <tr>\n",
       "      <td>3</td>\n",
       "      <td>1</td>\n",
       "      <td>1</td>\n",
       "      <td>1</td>\n",
       "      <td>41</td>\n",
       "      <td>1.2</td>\n",
       "      <td>1.0</td>\n",
       "      <td>0.6</td>\n",
       "      <td>5.1</td>\n",
       "      <td>0.4</td>\n",
       "      <td>0.5</td>\n",
       "      <td>...</td>\n",
       "      <td>0</td>\n",
       "      <td>2</td>\n",
       "      <td>16</td>\n",
       "      <td>19</td>\n",
       "      <td>0</td>\n",
       "      <td>8</td>\n",
       "      <td>0.50</td>\n",
       "      <td>9999</td>\n",
       "      <td>9999.0</td>\n",
       "      <td>3</td>\n",
       "    </tr>\n",
       "    <tr>\n",
       "      <td>4</td>\n",
       "      <td>1</td>\n",
       "      <td>2</td>\n",
       "      <td>1</td>\n",
       "      <td>27</td>\n",
       "      <td>0.2</td>\n",
       "      <td>0.1</td>\n",
       "      <td>0.0</td>\n",
       "      <td>2.9</td>\n",
       "      <td>0.0</td>\n",
       "      <td>0.7</td>\n",
       "      <td>...</td>\n",
       "      <td>5</td>\n",
       "      <td>3</td>\n",
       "      <td>14</td>\n",
       "      <td>22</td>\n",
       "      <td>10</td>\n",
       "      <td>8</td>\n",
       "      <td>1.00</td>\n",
       "      <td>9999</td>\n",
       "      <td>9999.0</td>\n",
       "      <td>-7</td>\n",
       "    </tr>\n",
       "  </tbody>\n",
       "</table>\n",
       "<p>5 rows × 28 columns</p>\n",
       "</div>"
      ],
      "text/plain": [
       "   Condition  Time_of_Day  BDI_II  STAI_T  pre_film_VAS_Sad  \\\n",
       "0          1            2       1      33               0.0   \n",
       "1          1            2       3      27               1.9   \n",
       "2          1            1      10      42               2.2   \n",
       "3          1            1       1      41               1.2   \n",
       "4          1            2       1      27               0.2   \n",
       "\n",
       "   pre_film_VAS_Hopeless  pre_film_VAS_Depressed  pre_film_VAS_Fear  \\\n",
       "0                    0.0                     0.0                0.4   \n",
       "1                    0.7                     0.5                0.8   \n",
       "2                    1.2                     0.9                0.2   \n",
       "3                    1.0                     0.6                5.1   \n",
       "4                    0.1                     0.0                2.9   \n",
       "\n",
       "   pre_film_VAS_Horror  pre_film_VAS_Anxious  ...  \\\n",
       "0                  0.3                   0.8  ...   \n",
       "1                  0.2                   0.2  ...   \n",
       "2                  0.1                   0.4  ...   \n",
       "3                  0.4                   0.5  ...   \n",
       "4                  0.0                   0.7  ...   \n",
       "\n",
       "   Day_Zero_Number_of_Intrusions  Days_One_to_Seven_Number_of_Intrusions  \\\n",
       "0                              2                                       4   \n",
       "1                              2                                       3   \n",
       "2                              5                                       6   \n",
       "3                              0                                       2   \n",
       "4                              5                                       3   \n",
       "\n",
       "   Visual_Recognition_Memory_Test  Verbal_Recognition_Memory_Test  \\\n",
       "0                              15                              18   \n",
       "1                              17                              19   \n",
       "2                              12                              21   \n",
       "3                              16                              19   \n",
       "4                              14                              22   \n",
       "\n",
       "   Number_of_Provocation_Task_Intrusions  Diary_Compliance  \\\n",
       "0                                      5                 9   \n",
       "1                                      4                 9   \n",
       "2                                      0                10   \n",
       "3                                      0                 8   \n",
       "4                                     10                 8   \n",
       "\n",
       "   IES_R_Intrusion_subscale  Tetris_Total_Score  \\\n",
       "0                      0.62                9999   \n",
       "1                      0.62                9999   \n",
       "2                      0.50                9999   \n",
       "3                      0.50                9999   \n",
       "4                      1.00                9999   \n",
       "\n",
       "   Self_Rated_Tetris_Performance  Tetris_Demand_Rating  \n",
       "0                         9999.0                     0  \n",
       "1                         9999.0                     0  \n",
       "2                         9999.0                     0  \n",
       "3                         9999.0                     3  \n",
       "4                         9999.0                    -7  \n",
       "\n",
       "[5 rows x 28 columns]"
      ]
     },
     "execution_count": 5,
     "metadata": {},
     "output_type": "execute_result"
    }
   ],
   "source": [
    "working_directory = r\"C:\\Users\\harri\\OneDrive\\Documents\\Repositories\\Statistical-methods-for-research-workers-bayes-for-psychologists-and-neuroscientists\\Data\"\n",
    "os.chdir(working_directory)\n",
    "\n",
    "df = pd.read_csv(\"James et al 2015 Experiment 2 Data Set.csv\")\n",
    "df.head()"
   ]
  },
  {
   "cell_type": "code",
   "execution_count": 6,
   "metadata": {},
   "outputs": [
    {
     "data": {
      "text/plain": [
       "<seaborn.axisgrid.FacetGrid at 0x24097b5ef48>"
      ]
     },
     "execution_count": 6,
     "metadata": {},
     "output_type": "execute_result"
    },
    {
     "data": {
      "image/png": "[encoded data removed]",
      "text/plain": [
       "<Figure size 864x216 with 4 Axes>"
      ]
     },
     "metadata": {},
     "output_type": "display_data"
    }
   ],
   "source": [
    "sns.set()\n",
    "g= sns.FacetGrid(df, col=\"Condition\")\n",
    "g.map(sns.distplot,  \"Days_One_to_Seven_Number_of_Intrusions\")"
   ]
  },
  {
   "cell_type": "code",
   "execution_count": 7,
   "metadata": {},
   "outputs": [
    {
     "data": {
      "text/plain": [
       "<seaborn.axisgrid.FacetGrid at 0x24097fbb9c8>"
      ]
     },
     "execution_count": 7,
     "metadata": {},
     "output_type": "execute_result"
    },
    {
     "data": {
      "image/png": "[encoded data removed]",
      "text/plain": [
       "<Figure size 864x216 with 4 Axes>"
      ]
     },
     "metadata": {},
     "output_type": "display_data"
    }
   ],
   "source": [
    "g= sns.FacetGrid(df, col=\"Condition\")\n",
    "g.map(sns.distplot,  \"Day_Zero_Number_of_Intrusions\")\n"
   ]
  },
  {
   "cell_type": "code",
   "execution_count": 8,
   "metadata": {},
   "outputs": [],
   "source": [
    "#df[\"Condition_cat\"] = df[\"Condition\"].astype('category')\n",
    "#dmatrix(\"C(Condition_cat)\", df)\n",
    "#dm = dmatrices(\"Day_Zero_Number_of_Intrusions ~ Condition_cat\", df"
   ]
  },
  {
   "cell_type": "code",
   "execution_count": 21,
   "metadata": {},
   "outputs": [
    {
     "data": {
      "text/plain": [
       "array([[0., 0., 0.],\n",
       "       [0., 0., 0.],\n",
       "       [0., 0., 0.],\n",
       "       [0., 0., 0.],\n",
       "       [0., 0., 0.],\n",
       "       [0., 0., 0.],\n",
       "       [0., 0., 0.],\n",
       "       [0., 0., 0.],\n",
       "       [0., 0., 0.],\n",
       "       [0., 0., 0.],\n",
       "       [0., 0., 0.],\n",
       "       [0., 0., 0.],\n",
       "       [0., 0., 0.],\n",
       "       [0., 0., 0.],\n",
       "       [0., 0., 0.],\n",
       "       [0., 0., 0.],\n",
       "       [0., 0., 0.],\n",
       "       [0., 0., 0.],\n",
       "       [1., 0., 0.],\n",
       "       [1., 0., 0.],\n",
       "       [1., 0., 0.],\n",
       "       [1., 0., 0.],\n",
       "       [1., 0., 0.],\n",
       "       [1., 0., 0.],\n",
       "       [1., 0., 0.],\n",
       "       [1., 0., 0.],\n",
       "       [1., 0., 0.],\n",
       "       [1., 0., 0.],\n",
       "       [1., 0., 0.],\n",
       "       [1., 0., 0.],\n",
       "       [1., 0., 0.],\n",
       "       [1., 0., 0.],\n",
       "       [1., 0., 0.],\n",
       "       [1., 0., 0.],\n",
       "       [1., 0., 0.],\n",
       "       [1., 0., 0.],\n",
       "       [0., 1., 0.],\n",
       "       [0., 1., 0.],\n",
       "       [0., 1., 0.],\n",
       "       [0., 1., 0.],\n",
       "       [0., 1., 0.],\n",
       "       [0., 1., 0.],\n",
       "       [0., 1., 0.],\n",
       "       [0., 1., 0.],\n",
       "       [0., 1., 0.],\n",
       "       [0., 1., 0.],\n",
       "       [0., 1., 0.],\n",
       "       [0., 1., 0.],\n",
       "       [0., 1., 0.],\n",
       "       [0., 1., 0.],\n",
       "       [0., 1., 0.],\n",
       "       [0., 1., 0.],\n",
       "       [0., 1., 0.],\n",
       "       [0., 1., 0.],\n",
       "       [0., 0., 1.],\n",
       "       [0., 0., 1.],\n",
       "       [0., 0., 1.],\n",
       "       [0., 0., 1.],\n",
       "       [0., 0., 1.],\n",
       "       [0., 0., 1.],\n",
       "       [0., 0., 1.],\n",
       "       [0., 0., 1.],\n",
       "       [0., 0., 1.],\n",
       "       [0., 0., 1.],\n",
       "       [0., 0., 1.],\n",
       "       [0., 0., 1.],\n",
       "       [0., 0., 1.],\n",
       "       [0., 0., 1.],\n",
       "       [0., 0., 1.],\n",
       "       [0., 0., 1.],\n",
       "       [0., 0., 1.],\n",
       "       [0., 0., 1.]])"
      ]
     },
     "execution_count": 21,
     "metadata": {},
     "output_type": "execute_result"
    }
   ],
   "source": [
    "#Genrated desigb matrix for Regression analysis with treatment coding\n",
    "levels = [2,1,3,4]\n",
    "\n",
    "contrast = Treatment(reference=0).code_without_intercept(levels)\n",
    "contrasts_Treatment = contrast.matrix[df.Condition-1, :]\n",
    "contrasts_Treatment"
   ]
  },
  {
   "cell_type": "code",
   "execution_count": 10,
   "metadata": {},
   "outputs": [],
   "source": [
    "One_wayANOVA = \"\"\"\n",
    "data{\n",
    "int<lower=0> Rows; // Number of rows in the contrast matix\n",
    "int<lower=0> Columns; // Number columns\n",
    "\n",
    "vector[Rows] DV; // Dependent variable data points\n",
    "\n",
    "matrix[Rows,Columns] x; //Contrast matrix\n",
    "}\n",
    "\n",
    "parameters{\n",
    "real<lower=0> alpha; // intercept\n",
    "\n",
    "vector[Columns] coef; // Beta coefficients \n",
    "\n",
    "real<lower=0> sigma;\n",
    "\n",
    "}\n",
    "model{\n",
    "//priors\n",
    "\n",
    "\n",
    "//likelihood\n",
    "DV ~ normal(alpha + x*coef  , sigma);\n",
    "}\n",
    "\"\"\""
   ]
  },
  {
   "cell_type": "code",
   "execution_count": 11,
   "metadata": {},
   "outputs": [
    {
     "name": "stderr",
     "output_type": "stream",
     "text": [
      "INFO:pystan:COMPILING THE C++ CODE FOR MODEL anon_model_68bd74173720069c75ee9128b853c294 NOW.\n"
     ]
    }
   ],
   "source": [
    "sm = ps.StanModel(model_code = One_wayANOVA)"
   ]
  },
  {
   "cell_type": "code",
   "execution_count": 61,
   "metadata": {},
   "outputs": [],
   "source": [
    "data = {'Rows': len(df),\n",
    "       'Columns': contrasts_Treatment.shape[1],\n",
    "       'DV': df[\"Day_Zero_Number_of_Intrusions\"],\n",
    "        'x': Reordered}\n",
    "\n"
   ]
  },
  {
   "cell_type": "code",
   "execution_count": 62,
   "metadata": {},
   "outputs": [],
   "source": [
    "fit = sm.sampling(data = data, iter = 2000, chains=4, seed= 302675)"
   ]
  },
  {
   "cell_type": "code",
   "execution_count": 63,
   "metadata": {},
   "outputs": [
    {
     "name": "stdout",
     "output_type": "stream",
     "text": [
      "Inference for Stan model: anon_model_68bd74173720069c75ee9128b853c294.\n",
      "4 chains, each with iter=2000; warmup=1000; thin=1; \n",
      "post-warmup draws per chain=1000, total post-warmup draws=4000.\n",
      "\n",
      "          mean se_mean     sd   2.5%    25%    50%    75%  97.5%  n_eff   Rhat\n",
      "alpha     3.11    0.01   0.52   2.12   2.76    3.1   3.46   4.16   1359    1.0\n",
      "coef[1]   0.44    0.02   0.74  -1.03  -0.04   0.46   0.95   1.83   1809    1.0\n",
      "coef[2]   0.05    0.02   0.75  -1.41  -0.46   0.05   0.54   1.51   1651    1.0\n",
      "coef[3]   0.32    0.02   0.74  -1.17  -0.17   0.35   0.82   1.79   1833    1.0\n",
      "sigma      2.3  3.7e-3    0.2   1.93   2.15   2.28   2.42   2.74   3064    1.0\n",
      "lp__    -93.03    0.04   1.59 -96.97 -93.83 -92.69 -91.84 -90.92   1829    1.0\n",
      "\n",
      "Samples were drawn using NUTS at Tue Dec  1 19:41:46 2020.\n",
      "For each parameter, n_eff is a crude measure of effective sample size,\n",
      "and Rhat is the potential scale reduction factor on split chains (at \n",
      "convergence, Rhat=1).\n"
     ]
    }
   ],
   "source": [
    "print(fit);\n"
   ]
  },
  {
   "cell_type": "markdown",
   "metadata": {},
   "source": [
    "# Sum contrast"
   ]
  },
  {
   "cell_type": "code",
   "execution_count": null,
   "metadata": {},
   "outputs": [],
   "source": [
    "levels = [1,2,3,4]\n",
    "\n",
    "contrast = Sum().code_without_intercept(levels)\n",
    "contrasts_sum = contrast.matrix[df.Condition-1, :]\n",
    "contrasts_sum;"
   ]
  },
  {
   "cell_type": "code",
   "execution_count": null,
   "metadata": {},
   "outputs": [],
   "source": [
    "data_1 = {'Rows': len(df),\n",
    "       'Columns': contrasts_sum.shape[1],\n",
    "       'DV': df[\"Day_Zero_Number_of_Intrusions\"],\n",
    "        'x': contrasts_sum}\n",
    "data_1;"
   ]
  },
  {
   "cell_type": "code",
   "execution_count": null,
   "metadata": {},
   "outputs": [],
   "source": [
    "fit_1 = sm.sampling(data = data_1, iter = 2000, chains=4, seed= 302675)"
   ]
  },
  {
   "cell_type": "code",
   "execution_count": null,
   "metadata": {},
   "outputs": [],
   "source": [
    "print(fit_1)"
   ]
  },
  {
   "cell_type": "code",
   "execution_count": 47,
   "metadata": {},
   "outputs": [],
   "source": [
    "Reordered= np.array(dmatrix(\"C(Condition, levels=levels)\", df))[:,1:4]\n",
    "Reordered;\n",
    "#contrasts_Treatment;"
   ]
  },
  {
   "cell_type": "code",
   "execution_count": 60,
   "metadata": {},
   "outputs": [
    {
     "data": {
      "text/plain": [
       "3.111111111111111"
      ]
     },
     "execution_count": 60,
     "metadata": {},
     "output_type": "execute_result"
    }
   ],
   "source": [
    "a = df[df[\"Condition\"] == 2]\n",
    "np.mean(a[\"Day_Zero_Number_of_Intrusions\"])"
   ]
  }
 ],
 "metadata": {
  "kernelspec": {
   "display_name": "Python 3",
   "language": "python",
   "name": "python3"
  },
  "language_info": {
   "codemirror_mode": {
    "name": "ipython",
    "version": 3
   },
   "file_extension": ".py",
   "mimetype": "text/x-python",
   "name": "python",
   "nbconvert_exporter": "python",
   "pygments_lexer": "ipython3",
   "version": "3.7.4"
  }
 },
 "nbformat": 4,
 "nbformat_minor": 2
}
