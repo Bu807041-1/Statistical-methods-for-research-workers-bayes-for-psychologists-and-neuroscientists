{
 "cells": [
  {
   "cell_type": "markdown",
   "metadata": {},
   "source": [
    "# Patsy contrast tutorial\n",
    "\n",
    "The following tutorial for the patsy package is based on combination of Schad, Vasishth, Hohenstein, and Kliegl (2020), Tutorial of contrast coding for analysis specification using R packages and https://stats.idre.ucla.edu/r/library/r-library-contrast-coding-systems-for-categorical-variables/."
   ]
  },
  {
   "cell_type": "code",
   "execution_count": 2,
   "metadata": {},
   "outputs": [],
   "source": [
    "# Import packages for conducting the tutorial\n",
    "import pandas as pd \n",
    "import numpy as np \n",
    "import seaborn as sns\n",
    "from statsmodels.formula.api import ols"
   ]
  },
  {
   "cell_type": "markdown",
   "metadata": {},
   "source": [
    "# The General issue\n",
    "\n",
    "Traditionally the data produced from experimental designs are often analysed using some variant of the analysis of variance (ANOVA) depnding on the experimental design. Standard practive is analsye the data with the desired ANOVA check the F-test for significance followed by Post hoc analysis of all the differences with some form pairwise comparison (Bonferroni, typically). This apporaoch is limited though if researchers have a prior theory driven comparison hypotheses before seeing the data.\n",
    "\n",
    "The tutorial below focuses on Frequentist statistics but its application in the following notebooks is of course Bayesian."
   ]
  },
  {
   "cell_type": "code",
   "execution_count": 37,
   "metadata": {},
   "outputs": [
    {
     "data": {
      "text/html": [
       "<div>\n",
       "<style scoped>\n",
       "    .dataframe tbody tr th:only-of-type {\n",
       "        vertical-align: middle;\n",
       "    }\n",
       "\n",
       "    .dataframe tbody tr th {\n",
       "        vertical-align: top;\n",
       "    }\n",
       "\n",
       "    .dataframe thead th {\n",
       "        text-align: right;\n",
       "    }\n",
       "</style>\n",
       "<table border=\"1\" class=\"dataframe\">\n",
       "  <thead>\n",
       "    <tr style=\"text-align: right;\">\n",
       "      <th></th>\n",
       "      <th>Subject</th>\n",
       "      <th>F</th>\n",
       "      <th>DV</th>\n",
       "      <th>F_Recoded</th>\n",
       "    </tr>\n",
       "  </thead>\n",
       "  <tbody>\n",
       "    <tr>\n",
       "      <td>0</td>\n",
       "      <td>1</td>\n",
       "      <td>F1</td>\n",
       "      <td>1.124869</td>\n",
       "      <td>1</td>\n",
       "    </tr>\n",
       "    <tr>\n",
       "      <td>1</td>\n",
       "      <td>2</td>\n",
       "      <td>F1</td>\n",
       "      <td>0.677649</td>\n",
       "      <td>1</td>\n",
       "    </tr>\n",
       "    <tr>\n",
       "      <td>2</td>\n",
       "      <td>3</td>\n",
       "      <td>F1</td>\n",
       "      <td>0.694366</td>\n",
       "      <td>1</td>\n",
       "    </tr>\n",
       "    <tr>\n",
       "      <td>3</td>\n",
       "      <td>4</td>\n",
       "      <td>F1</td>\n",
       "      <td>0.585406</td>\n",
       "      <td>1</td>\n",
       "    </tr>\n",
       "    <tr>\n",
       "      <td>4</td>\n",
       "      <td>5</td>\n",
       "      <td>F1</td>\n",
       "      <td>0.973082</td>\n",
       "      <td>1</td>\n",
       "    </tr>\n",
       "    <tr>\n",
       "      <td>5</td>\n",
       "      <td>1</td>\n",
       "      <td>F2</td>\n",
       "      <td>0.139692</td>\n",
       "      <td>2</td>\n",
       "    </tr>\n",
       "    <tr>\n",
       "      <td>6</td>\n",
       "      <td>2</td>\n",
       "      <td>F2</td>\n",
       "      <td>0.948962</td>\n",
       "      <td>2</td>\n",
       "    </tr>\n",
       "    <tr>\n",
       "      <td>7</td>\n",
       "      <td>3</td>\n",
       "      <td>F2</td>\n",
       "      <td>0.447759</td>\n",
       "      <td>2</td>\n",
       "    </tr>\n",
       "    <tr>\n",
       "      <td>8</td>\n",
       "      <td>4</td>\n",
       "      <td>F2</td>\n",
       "      <td>0.663808</td>\n",
       "      <td>2</td>\n",
       "    </tr>\n",
       "    <tr>\n",
       "      <td>9</td>\n",
       "      <td>5</td>\n",
       "      <td>F2</td>\n",
       "      <td>0.550126</td>\n",
       "      <td>2</td>\n",
       "    </tr>\n",
       "  </tbody>\n",
       "</table>\n",
       "</div>"
      ],
      "text/plain": [
       "   Subject   F        DV  F_Recoded\n",
       "0        1  F1  1.124869          1\n",
       "1        2  F1  0.677649          1\n",
       "2        3  F1  0.694366          1\n",
       "3        4  F1  0.585406          1\n",
       "4        5  F1  0.973082          1\n",
       "5        1  F2  0.139692          2\n",
       "6        2  F2  0.948962          2\n",
       "7        3  F2  0.447759          2\n",
       "8        4  F2  0.663808          2\n",
       "9        5  F2  0.550126          2"
      ]
     },
     "execution_count": 37,
     "metadata": {},
     "output_type": "execute_result"
    }
   ],
   "source": [
    "# Simulate data for tutorial\n",
    "np.random.seed(1)\n",
    "F1 = np.random.normal(0.8,0.2,5)\n",
    "F2 = np.random.normal(0.6,0.2,5)\n",
    "F3 = np.random.normal(0.4,0.2,5) \n",
    "F4 = np.random.normal(0.2,0.2,5)\n",
    "n = 5\n",
    "\n",
    "#Specifying data for two group dataset\n",
    "#Put data i to python dictionary\n",
    "data = {'Subject': range(n),\n",
    "        'F1': F1,\n",
    "         'F2': F2\n",
    "        }\n",
    "\n",
    "data_2 = {'Subject': range(n),\n",
    "        'F1': F1,\n",
    "        'F2': F2,\n",
    "        'F3': F3,\n",
    "        'F4': F4\n",
    "        }\n",
    "\n",
    "# Using the specified python dictionary above \n",
    "# to generate a Pandas dataframe. \n",
    "df = pd.DataFrame(data, columns = ['Subject','F1','F2'])\n",
    "df = pd.melt(df,id_vars=['Subject'],var_name='F', value_name='DV')\n",
    "df[\"Subject\"] = df[\"Subject\"] + 1\n",
    "\n",
    "\n",
    "df[\"F_Recoded\"] = df[\"F\"]\n",
    "df[\"F_Recoded\"] = df['F_Recoded'].replace(['F1'], '1').replace('F2', 2)\n",
    "df[\"F_Recoded\"] = df['F_Recoded'].astype(int)\n"
   ]
  },
  {
   "cell_type": "code",
   "execution_count": 5,
   "metadata": {},
   "outputs": [],
   "source": [
    "df_2 = pd.DataFrame(data_2, columns = ['Subject','F1','F2','F3','F4'])\n",
    "df_2 = pd.melt(df_2,id_vars=['Subject'],var_name='F', value_name='DV')     \n",
    "df_2;    "
   ]
  },
  {
   "cell_type": "markdown",
   "metadata": {},
   "source": [
    "# Treatment Contrasts\n",
    "The default contrast in many ststisticsl softwares is the treatment contrast. This type of statisical model contrast name is derived from its general use in medical settings, where treatments are compared to a baseline (control group)."
   ]
  },
  {
   "cell_type": "code",
   "execution_count": 51,
   "metadata": {},
   "outputs": [
    {
     "name": "stdout",
     "output_type": "stream",
     "text": [
      "                            OLS Regression Results                            \n",
      "==============================================================================\n",
      "Dep. Variable:                     DV   R-squared:                       0.234\n",
      "Model:                            OLS   Adj. R-squared:                  0.138\n",
      "Method:                 Least Squares   F-statistic:                     2.442\n",
      "Date:                Sun, 22 Nov 2020   Prob (F-statistic):              0.157\n",
      "Time:                        13:43:11   Log-Likelihood:                0.24060\n",
      "No. Observations:                  10   AIC:                             3.519\n",
      "Df Residuals:                       8   BIC:                             4.124\n",
      "Df Model:                           1                                         \n",
      "Covariance Type:            nonrobust                                         \n",
      "==============================================================================\n",
      "                 coef    std err          t      P>|t|      [0.025      0.975]\n",
      "------------------------------------------------------------------------------\n",
      "Intercept      0.8111      0.118      6.867      0.000       0.539       1.083\n",
      "F[T.F2]       -0.2610      0.167     -1.563      0.157      -0.646       0.124\n",
      "==============================================================================\n",
      "Omnibus:                        0.097   Durbin-Watson:                   2.967\n",
      "Prob(Omnibus):                  0.952   Jarque-Bera (JB):                0.310\n",
      "Skew:                           0.110   Prob(JB):                        0.856\n",
      "Kurtosis:                       2.166   Cond. No.                         2.62\n",
      "==============================================================================\n",
      "\n",
      "Warnings:\n",
      "[1] Standard Errors assume that the covariance matrix of the errors is correctly specified.\n"
     ]
    }
   ],
   "source": [
    "#This is demsontrated here by fitting a OLS regression to the simuate data set above\n",
    "\n",
    "mod = ols(\"DV ~ F\", data=df)\n",
    "res = mod.fit()\n",
    "\n",
    "print(res.summary())"
   ]
  },
  {
   "cell_type": "markdown",
   "metadata": {},
   "source": [
    "## $$ Intercept (F1) = \\hat{\\mu}_1 = 0.81$$\n",
    "## $$ Slope (F2) = \\hat{\\mu}_1 - \\hat{\\mu}_2 = -0.46$$\n",
    "\n",
    "When using Treatment coding the mean of baseline/control group is the intercept of the ouptut and the Slope (Beta) is the diffence between the two groups, please note that tis was all generated by defaukt in the OLS function, so if not specifying the exact cotrasts be careful with interpretation."
   ]
  },
  {
   "cell_type": "markdown",
   "metadata": {},
   "source": [
    "# General linear model formulation\n",
    "\n",
    "Why do we get these regression coeffiecients?\n",
    "\n",
    "We can udertand why we get the observed Bata coesfficent if we specify the model above in general linear form. $y = \\beta_0 + \\beta_1 x$ for the F1 condition, $x = 0$, and for the F2, condition $x = 1$. Therefore when $y = \\beta_0 + \\beta_1 \\cdot 0 = \\beta_0$, but when $y = \\beta_0 + \\beta_1 \\cdot 1 = \\beta_0 + \\beta_1$. This si a very simple case and using the defaults give the results described but the rorder of coding could be changed (see later complex example) by reversing the setting of the coding would simple flip the sign of Slope coefficient."
   ]
  },
  {
   "cell_type": "markdown",
   "metadata": {},
   "source": [
    "# Formulating the contrasts above as NHST's.\n",
    "\n",
    "Because treatment coding in a categorical regression test level of IV's against a baseline IV as such in the two level example above (Default) the NHST is specified as $H_0: \\beta_1 = 0$, which is a result of the $\\beta_1$ representing the diffence between the two scores. Thes test above also geneartes a NSHT for the intercept term $H_0: \\beta_0 = 0$, of course this is of less as essntially a ones sample t-test for comparising the Baseline IV has a statistically significant diffenrence from 0."
   ]
  },
  {
   "cell_type": "markdown",
   "metadata": {},
   "source": [
    "# Reordering treatment coding from default"
   ]
  },
  {
   "cell_type": "code",
   "execution_count": 54,
   "metadata": {},
   "outputs": [
    {
     "name": "stdout",
     "output_type": "stream",
     "text": [
      "[[0.]\n",
      " [1.]]\n"
     ]
    }
   ],
   "source": [
    "from patsy.contrasts import Treatment\n",
    "Two_levels_examp = [2,1]\n",
    "contrast = Treatment(reference=0).code_without_intercept(Two_levels_examp)\n",
    "print(contrast.matrix)"
   ]
  },
  {
   "cell_type": "code",
   "execution_count": 56,
   "metadata": {},
   "outputs": [
    {
     "name": "stdout",
     "output_type": "stream",
     "text": [
      "[[0.]\n",
      " [0.]\n",
      " [0.]\n",
      " [0.]\n",
      " [0.]\n",
      " [1.]\n",
      " [1.]\n",
      " [1.]\n",
      " [1.]\n",
      " [1.]]\n"
     ]
    }
   ],
   "source": [
    "print(contrast.matrix[df.F_Recoded-1, :])"
   ]
  },
  {
   "cell_type": "markdown",
   "metadata": {},
   "source": [
    "# Sum contrasts\n",
    "\n",
    "This type of test contrast is different from the treatment contrasts, as the diffence is generated by comparing eaxch facors mean against the grand mean of all the levels of the factor. "
   ]
  },
  {
   "cell_type": "markdown",
   "metadata": {},
   "source": [
    "# Repeated Contrasts\n",
    "\n",
    "This contrast compares groups in succesive order. i.e if you had groups separated by some level of manipulation with settings of low, medium and high; low would be compared to medium and then medium compared to high."
   ]
  },
  {
   "cell_type": "markdown",
   "metadata": {},
   "source": [
    "# Citations\n",
    "\n",
    "Schad, D. J., Vasishth, S., Hohenstein, S., & Kliegl, R. (2020). How to capitalize on a priori contrasts in linear (mixed) models: A tutorial. Journal of Memory and Language, 110, 104038."
   ]
  },
  {
   "cell_type": "code",
   "execution_count": 65,
   "metadata": {},
   "outputs": [],
   "source": [
    "#df['F_Recoded'] = df['F_Recoded'].astype('category')\n",
    "#df['F_Recoded'].cat.reorder_categories(['1', '2'])\n"
   ]
  },
  {
   "cell_type": "code",
   "execution_count": null,
   "metadata": {},
   "outputs": [],
   "source": []
  }
 ],
 "metadata": {
  "kernelspec": {
   "display_name": "Python 3",
   "language": "python",
   "name": "python3"
  },
  "language_info": {
   "codemirror_mode": {
    "name": "ipython",
    "version": 3
   },
   "file_extension": ".py",
   "mimetype": "text/x-python",
   "name": "python",
   "nbconvert_exporter": "python",
   "pygments_lexer": "ipython3",
   "version": "3.7.4"
  }
 },
 "nbformat": 4,
 "nbformat_minor": 2
}
